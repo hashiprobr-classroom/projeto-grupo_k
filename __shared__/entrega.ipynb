{
 "cells": [
  {
   "cell_type": "markdown",
   "id": "29d7f347-f24b-4ffc-9455-dfd5cbe5c2d5",
   "metadata": {},
   "source": [
    "Plotagem Grafo - Entrega 1"
   ]
  },
  {
   "cell_type": "code",
   "execution_count": null,
   "id": "4f89ba75-076f-436c-905e-b39cb8d4ff7d",
   "metadata": {},
   "outputs": [],
   "source": [
    "import netpixi\n",
    "import graph_tool_extras as gte\n",
    "import pandas as pd\n",
    "import csv\n",
    "from graph_tool import draw"
   ]
  },
  {
   "cell_type": "code",
   "execution_count": null,
   "id": "51118183-3c93-4a3e-851b-b115685f0252",
   "metadata": {},
   "outputs": [],
   "source": [
    "PATH = 'relacao_comercial.csv'\n",
    "\n",
    "# Exemplo: caso a coluna com o valor esteja nomeada como \"TradeValue in 1000 USD\"\n",
    "col_valor = 'TradeValue in 1000 USD'"
   ]
  },
  {
   "cell_type": "code",
   "execution_count": null,
   "id": "db8f486f-3e49-48d1-a45a-f83a0f440fb9",
   "metadata": {},
   "outputs": [],
   "source": [
    "df = pd.read_csv(PATH)"
   ]
  },
  {
   "cell_type": "code",
   "execution_count": null,
   "id": "2f918935-cc2d-45e7-a03d-08ada583c547",
   "metadata": {},
   "outputs": [],
   "source": [
    "df.head()"
   ]
  },
  {
   "cell_type": "code",
   "execution_count": null,
   "id": "08b7b3d3-afe3-4d97-bf31-4b6d706a79ad",
   "metadata": {},
   "outputs": [],
   "source": [
    "# Filtrar as linhas para excluir as que têm \"Unspecified\" ou \"World\" nas colunas \"ReporterName\" ou \"PartnerName\"\n",
    "df = df[~df['ReporterName'].isin(['Unspecified', 'World']) & ~df['PartnerName'].isin(['Unspecified', 'World'])]"
   ]
  },
  {
   "cell_type": "code",
   "execution_count": null,
   "id": "b4c88f50-33e8-473b-8c59-13a60c75681b",
   "metadata": {},
   "outputs": [],
   "source": [
    "thresholds_por_ano = df.groupby('Year')[col_valor].quantile(0.3)"
   ]
  },
  {
   "cell_type": "code",
   "execution_count": null,
   "id": "3f213bad-e33b-4a73-b967-86d6b53166f5",
   "metadata": {},
   "outputs": [],
   "source": [
    "# 3. Criar o dicionário com os thresholds por ano\n",
    "thresholds_dict = thresholds_por_ano.to_dict()\n",
    "\n",
    "# 4. Inicializar uma lista para armazenar as estatísticas\n",
    "estatisticas_por_ano = []"
   ]
  },
  {
   "cell_type": "code",
   "execution_count": null,
   "id": "9b282e26-f00b-4d5e-abd4-79d7a2f8d34a",
   "metadata": {},
   "outputs": [],
   "source": [
    "# 5. Filtrar o DataFrame usando o threshold de cada ano\n",
    "#    Vamos criar uma lista de DataFrames filtrados e depois concatená-los\n",
    "dfs_filtrados = []\n",
    "for ano, limite in thresholds_por_ano.items():\n",
    "    # Contar o número total de relações antes do filtro\n",
    "    total_relacoes_ano = len(df[df['Year'] == ano])\n",
    "\n",
    "    # Seleciona apenas as linhas do ano correspondente cujo valor esteja acima do threshold\n",
    "    filtro_ano = df[(df['Year'] == ano) & (df[col_valor] >= limite)]\n",
    "    dfs_filtrados.append(filtro_ano)\n",
    "\n",
    "    # Contar o número de relações cortadas e mantidas\n",
    "    cortadas = total_relacoes_ano - len(filtro_ano)\n",
    "    mantidas = len(filtro_ano)\n",
    "\n",
    "    # Armazenar as estatísticas\n",
    "    estatisticas_por_ano.append({\n",
    "        'Ano': ano,\n",
    "        'Total': total_relacoes_ano,\n",
    "        'Cortadas': cortadas,\n",
    "        'Mantidas': mantidas\n",
    "    })"
   ]
  },
  {
   "cell_type": "code",
   "execution_count": null,
   "id": "da12fe10-b952-43e9-b95e-2ae98d7ba4b6",
   "metadata": {},
   "outputs": [],
   "source": [
    "# 6. Concatenar o resultado em um único DataFrame filtrado\n",
    "df_filtrado = pd.concat(dfs_filtrados, ignore_index=True)\n",
    "\n",
    "# 7. Exibir as estatísticas\n",
    "estatisticas_df = pd.DataFrame(estatisticas_por_ano)"
   ]
  },
  {
   "cell_type": "code",
   "execution_count": null,
   "id": "91aa7e4c-54fa-44ce-8c3a-384ce0579675",
   "metadata": {},
   "outputs": [],
   "source": [
    "print(\"Thresholds por ano:\")\n",
    "print(thresholds_por_ano)"
   ]
  },
  {
   "cell_type": "code",
   "execution_count": null,
   "id": "5bd36287-8872-439a-9dcf-2caf432dbad4",
   "metadata": {},
   "outputs": [],
   "source": [
    "print(\"\\nEstatísticas por ano:\")\n",
    "print(estatisticas_df)"
   ]
  },
  {
   "cell_type": "code",
   "execution_count": null,
   "id": "e1f282fa-df34-4933-bd62-0a5c068e85fb",
   "metadata": {},
   "outputs": [],
   "source": [
    "df_filtrado.head()"
   ]
  },
  {
   "cell_type": "code",
   "execution_count": null,
   "id": "03dc4b45-9dd0-4411-bc64-3426e959c86c",
   "metadata": {},
   "outputs": [],
   "source": [
    "def get_or_add_vertex(g, id):\n",
    "    u = g.vertex_by_id(id)\n",
    "    if u is None:\n",
    "        u = g.add_vertex_by_id(id)\n",
    "        u['saldo'] = 0\n",
    "    return u\n",
    "\n",
    "def get_or_add_edge(g, exporter, importer):\n",
    "    e = g.edge_by_ids(exporter, importer)\n",
    "    if e is None:\n",
    "        e = g.add_edge_by_ids(exporter, importer)\n",
    "        e['total'] = 0\n",
    "    return e"
   ]
  },
  {
   "cell_type": "code",
   "execution_count": null,
   "id": "990126be-c2f3-4b85-91df-9e7bd2a04beb",
   "metadata": {},
   "outputs": [],
   "source": [
    "graphs_by_year = {}\n",
    "\n",
    "with open(PATH, encoding=\"utf-8\") as file:\n",
    "    reader = csv.reader(file)\n",
    "    next(reader)  # Ignorar cabeçalho\n",
    "\n",
    "    for line in reader:\n",
    "        reporter_iso3 = line[0]  # País exportador\n",
    "        partner_iso3 = line[2]  # País importador\n",
    "        year = int(line[4])  # Ano de referência\n",
    "        \n",
    "        # Verifica se a coluna de valor comercial está vazia ou inválida\n",
    "        if line[6].strip() == '':\n",
    "            continue  # Pula esta linha\n",
    "\n",
    "        try:\n",
    "            trade_value = float(line[6])  # Valor comercial (em milhares de USD)\n",
    "        except ValueError:\n",
    "            continue\n",
    "\n",
    "        # Verifica o valor mínimo para o ano a partir de thresholds_dict\n",
    "        if year in thresholds_dict:\n",
    "            VALOR_MINIMO = thresholds_dict[year]  # Ajuste para o valor mínimo do ano especifico\n",
    "\n",
    "            # Filtrar relações comerciais pelo valor mínimo\n",
    "            if trade_value >= VALOR_MINIMO:\n",
    "                # Criar grafo para o ano, se ainda não existir\n",
    "                if year not in graphs_by_year:\n",
    "                    g = gte.Graph(directed=True)\n",
    "                    g.add_vp(\"saldo\")\n",
    "                    g.add_ep(\"total\")\n",
    "                    g.add_gp(\"ano\")\n",
    "                    g[\"ano\"] = year\n",
    "                    graphs_by_year[year] = g\n",
    "\n",
    "                g = graphs_by_year[year]\n",
    "\n",
    "                # Criar ou obter os vértices dos países\n",
    "                u = get_or_add_vertex(g, reporter_iso3)\n",
    "                v = get_or_add_vertex(g, partner_iso3)\n",
    "\n",
    "                # Criar ou atualizar a aresta representando a relação comercial\n",
    "                e = get_or_add_edge(g, reporter_iso3, partner_iso3)\n",
    "                e[\"total\"] += trade_value\n",
    "\n",
    "\n"
   ]
  },
  {
   "cell_type": "code",
   "execution_count": null,
   "id": "c456871c-d4b3-47a9-aff9-7738a4fdd367",
   "metadata": {},
   "outputs": [],
   "source": [
    "YEAR_TO_PLOT = 2020\n",
    "\n",
    "if YEAR_TO_PLOT in graphs_by_year:\n",
    "    gte.save(graphs_by_year[YEAR_TO_PLOT], \"primeira-versao.net.gz\")\n",
    "else:\n",
    "    print(f\"Nenhum dado disponível para o ano {YEAR_TO_PLOT}.\")"
   ]
  },
  {
   "cell_type": "code",
   "execution_count": null,
   "id": "05ccdfe7-3c8f-4a27-b983-c9e6249b467d",
   "metadata": {
    "scrolled": true
   },
   "outputs": [],
   "source": [
    "h = gte.load(\"primeira-versao.net.gz\")\n",
    "layout = draw.sfdp_layout(h)\n",
    "gte.move(h, layout)\n",
    "h = gte.clean(h)\n",
    "gte.save(h, 'relacao-comercial.net.gz')\n",
    "r = netpixi.render('relacao-comercial.net.gz')"
   ]
  },
  {
   "cell_type": "code",
   "execution_count": null,
   "id": "b6f69905-3c28-42ad-8739-6587e3307dac",
   "metadata": {},
   "outputs": [],
   "source": [
    "r.vertex_default(\n",
    "    size=10,\n",
    "    color=0x3b3fd9,\n",
    "    bwidth=0.5,\n",
    "    bcolor=0x000487,\n",
    ")\n",
    "\n",
    "r.edge_default(\n",
    "    width=0.5,\n",
    "    color=0xd7d7de,\n",
    "    curve1=0.2,\n",
    "    curve2=0.2,\n",
    ")"
   ]
  },
  {
   "cell_type": "code",
   "execution_count": null,
   "id": "cb4ceda1-c77f-421c-9ca1-ee78c1522434",
   "metadata": {},
   "outputs": [],
   "source": [
    "# Exibe a quantidade de vértices e arestas no grafo selecionado\n",
    "num_vertices = h.num_vertices()\n",
    "num_arestas = h.num_edges()\n",
    "\n",
    "print(f'O grafo do ano {YEAR_TO_PLOT} contém {num_vertices} vértices e {num_arestas} arestas.')"
   ]
  },
  {
   "cell_type": "markdown",
   "id": "0f145ab9-7d8b-4237-a11f-487769037524",
   "metadata": {},
   "source": [
    "Visualização em que o tamanho dos vértices corresponde ao DEGREE."
   ]
  },
  {
   "cell_type": "code",
   "execution_count": null,
   "id": "94a93ced-c75f-4784-b99f-5e9ee4ebe106",
   "metadata": {},
   "outputs": [],
   "source": [
    "g = gte.load('relacao-comercial.net.gz')\n",
    "\n",
    "c = gte.total_degree(g)\n",
    "g.add_vp('degree', c)\n",
    "\n",
    "gte.save(g, 'degree.net.gz')\n",
    "r = netpixi.render('degree.net.gz')"
   ]
  },
  {
   "cell_type": "code",
   "execution_count": null,
   "id": "7710f459-9665-452e-9427-c98ebb9a06e7",
   "metadata": {},
   "outputs": [],
   "source": [
    "r.vertex_scale('degree', 5, 20)\n",
    "r.vertex_default(\n",
    "    size=10,\n",
    "    color=0x3b3fd9,\n",
    "    bwidth=0.5,\n",
    "    bcolor=0x01011f,\n",
    ")\n",
    "\n",
    "r.edge_default(\n",
    "    width=0.5,\n",
    "    color=0xd7d7de,\n",
    "    curve1=0.2,\n",
    "    curve2=0.2,\n",
    ")"
   ]
  },
  {
   "cell_type": "markdown",
   "id": "59452122-1b14-4a7c-b22b-939ea38ccb3a",
   "metadata": {},
   "source": [
    "Visualização em que o tamanho dos vértices corresponde ao BETWEENNESS."
   ]
  },
  {
   "cell_type": "code",
   "execution_count": null,
   "id": "a346c166-7b34-4d7a-8f27-4572959f986e",
   "metadata": {},
   "outputs": [],
   "source": [
    "from graph_tool import centrality"
   ]
  },
  {
   "cell_type": "code",
   "execution_count": null,
   "id": "4d9e13c8-739a-4853-84bd-e33bb61c9de5",
   "metadata": {},
   "outputs": [],
   "source": [
    "g = gte.load('relacao-comercial.net.gz')\n",
    "\n",
    "c, _ = centrality.betweenness(g)\n",
    "\n",
    "g.add_vp('betweenness', c)\n",
    "\n",
    "gte.save(g, 'betweenness.net.gz')\n",
    "\n",
    "r = netpixi.render('betweenness.net.gz')"
   ]
  },
  {
   "cell_type": "code",
   "execution_count": null,
   "id": "b06735c3-0caa-4a79-9dfb-0ec2857e35ba",
   "metadata": {},
   "outputs": [],
   "source": [
    "r.vertex_scale('betweenness', 5, 20)\n",
    "r.vertex_default(\n",
    "    size=10,\n",
    "    color=0x3b3fd9,\n",
    "    bwidth=0.5,\n",
    "    bcolor=0x01011f,\n",
    ")\n",
    "\n",
    "r.edge_default(\n",
    "    width=0.5,\n",
    "    color=0xd7d7de,\n",
    "    curve1=0.2,\n",
    "    curve2=0.2,\n",
    ")"
   ]
  },
  {
   "cell_type": "markdown",
   "id": "23f1b593-b0ad-4eb2-9816-6d3a86d34e46",
   "metadata": {
    "execution": {
     "iopub.execute_input": "2025-03-26T02:25:02.241680Z",
     "iopub.status.busy": "2025-03-26T02:25:02.240167Z",
     "iopub.status.idle": "2025-03-26T02:25:02.266291Z",
     "shell.execute_reply": "2025-03-26T02:25:02.261786Z",
     "shell.execute_reply.started": "2025-03-26T02:25:02.241585Z"
    }
   },
   "source": [
    "Visualização em que o tamanho dos vértices corresponde ao CLOSENESS"
   ]
  },
  {
   "cell_type": "code",
   "execution_count": null,
   "id": "ce386cb7-a533-4cca-bd7b-a7e5afef72aa",
   "metadata": {},
   "outputs": [],
   "source": [
    "g = gte.load('relacao-comercial.net.gz')\n",
    "\n",
    "# O parâmetro harmonic=True é necessário para garantir\n",
    "# que a fórmula seja exatamente a definida acima.\n",
    "c = centrality.closeness(g, harmonic=True)\n",
    "\n",
    "g.add_vp('closeness', c)"
   ]
  },
  {
   "cell_type": "code",
   "execution_count": null,
   "id": "313de112-f41b-424d-ad2f-cdf72bedd14f",
   "metadata": {},
   "outputs": [],
   "source": [
    "gte.save(g, 'closeness.net.gz')"
   ]
  },
  {
   "cell_type": "code",
   "execution_count": null,
   "id": "18139d0f-e951-4f53-bed8-b373ff1f0dbf",
   "metadata": {},
   "outputs": [],
   "source": [
    "r = netpixi.render('closeness.net.gz')"
   ]
  },
  {
   "cell_type": "code",
   "execution_count": null,
   "id": "b9b11c75-6db3-4ec6-ba28-d591faa0276b",
   "metadata": {},
   "outputs": [],
   "source": [
    "r.vertex_scale('closeness', 5, 20)"
   ]
  },
  {
   "cell_type": "markdown",
   "id": "b7fad7d5-d048-4280-af2d-9f832bb6f283",
   "metadata": {},
   "source": [
    "Visualização em que o tamanho dos vértices correspondem à LACUNAS ESTRUTURAIS"
   ]
  },
  {
   "cell_type": "code",
   "execution_count": null,
   "id": "cc3fc770-c32b-4369-bef3-6898dde6d291",
   "metadata": {},
   "outputs": [],
   "source": [
    "g = gte.load('../../../Datasets/florentine-families-clean.net.gz')\n",
    "\n",
    "c = gte.burt_constraint(g)\n",
    "\n",
    "g.add_vp('burt_constraint', c)"
   ]
  },
  {
   "cell_type": "code",
   "execution_count": null,
   "id": "b36a7aa6-69d5-49ac-9db9-fff61ccbfd8e",
   "metadata": {},
   "outputs": [],
   "source": [
    "gte.save(g, 'structural_holes.net.gz')"
   ]
  },
  {
   "cell_type": "code",
   "execution_count": null,
   "id": "14fa853a-473a-45fb-bdbb-1871418cb12a",
   "metadata": {},
   "outputs": [],
   "source": [
    "r = netpixi.render('structural_holes.net.gz')"
   ]
  },
  {
   "cell_type": "code",
   "execution_count": null,
   "id": "cc4ef75d-08da-434b-b5e6-ccfb94b51e43",
   "metadata": {},
   "outputs": [],
   "source": [
    "r.vertex_scale('burt_constraint', 5, 20)"
   ]
  },
  {
   "cell_type": "markdown",
   "id": "3b5d9740-4a0a-4923-9f0f-6673e20bcda9",
   "metadata": {},
   "source": [
    "Código utilizado para encontrar os 5 principais nós da rede, levando em conta o DEGREE de cada um deles."
   ]
  },
  {
   "cell_type": "code",
   "execution_count": null,
   "id": "75669994-299b-4aa3-85c2-4243647d813a",
   "metadata": {},
   "outputs": [],
   "source": [
    "import graph_tool.all as gt\n",
    "import graph_tool_extras as gte\n",
    "\n",
    "# Carrega o grafo\n",
    "g = gte.load('teste-reposicionado (1).net.gz')\n",
    "\n",
    "# Calcula o grau total\n",
    "degree_prop = g.degree_property_map(\"total\")\n",
    "g.vertex_properties['degree'] = degree_prop\n",
    "\n",
    "# Acessa a propriedade 'id', que representa o nome do vértice\n",
    "id_prop = g.vertex_properties['id']\n",
    "\n",
    "# Ordena os vértices pelo grau (do maior para o menor)\n",
    "sorted_vertices = sorted(g.vertices(), key=lambda v: degree_prop[v], reverse=True)\n",
    "\n",
    "# Número de vértices que você quer mostrar\n",
    "top_n = 5\n",
    "\n",
    "# Mostra os top_n vértices com maior grau\n",
    "print(f\"Top {top_n} nós com maior grau:\")\n",
    "for v in sorted_vertices[:top_n]:\n",
    "    print(f\"{id_prop[v]} — Grau: {degree_prop[v]}\")"
   ]
  }
 ],
 "metadata": {
  "kernelspec": {
   "display_name": "Python 3 (ipykernel)",
   "language": "python",
   "name": "python3"
  },
  "language_info": {
   "codemirror_mode": {
    "name": "ipython",
    "version": 3
   },
   "file_extension": ".py",
   "mimetype": "text/x-python",
   "name": "python",
   "nbconvert_exporter": "python",
   "pygments_lexer": "ipython3",
   "version": "3.13.1"
  }
 },
 "nbformat": 4,
 "nbformat_minor": 5
}
